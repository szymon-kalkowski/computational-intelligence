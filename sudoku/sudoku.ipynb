{
 "cells": [
  {
   "attachments": {},
   "cell_type": "markdown",
   "metadata": {},
   "source": [
    "# SUDOKU\n",
    "\n",
    "Łamigłówka, której celem jest wypełnienie diagramu 9 × 9 w taki sposób, aby w każdym wierszu, w każdej kolumnie i w każdym z dziewięciu pogrubionych kwadratów 3 × 3 (zwanych „blokami” lub „podkwadratami”) znalazło się po jednej cyfrze od 1 do 9.\n",
    "\n",
    "\n",
    "Do rozwiązania problemu wykorzystano algorytm genetyczny."
   ]
  },
  {
   "cell_type": "code",
   "execution_count": 115,
   "metadata": {},
   "outputs": [],
   "source": [
    "import pygad\n",
    "import random\n",
    "import time"
   ]
  },
  {
   "cell_type": "code",
   "execution_count": 116,
   "metadata": {},
   "outputs": [],
   "source": [
    "# rozwiązane sudoku\n",
    "\n",
    "solved_sudoku_1 = [[4, 6, 9, 3, 8, 2, 1, 5, 7],\n",
    "                   [2, 8, 1, 4, 7, 5, 3, 9, 6],\n",
    "                   [7, 3, 5, 9, 1, 6, 2, 8, 4],\n",
    "                   [5, 1, 3, 8, 9, 4, 6, 7, 2],\n",
    "                   [6, 9, 4, 5, 2, 7, 8, 3, 1],\n",
    "                   [8, 7, 2, 1, 6, 3, 5, 4, 9],\n",
    "                   [1, 5, 8, 2, 4, 9, 7, 6, 3],\n",
    "                   [9, 2, 6, 7, 3, 8, 4, 1, 5],\n",
    "                   [3, 4, 7, 6, 5, 1, 9, 2, 8]]\n",
    "\n",
    "solved_sudoku_2 = [[2, 9, 5, 4, 8, 1, 7, 3, 6],\n",
    "                   [1, 4, 7, 6, 3, 9, 2, 8, 5],\n",
    "                   [8, 3, 6, 7, 5, 2, 9, 4, 1],\n",
    "                   [6, 8, 4, 5, 1, 7, 3, 9, 2],\n",
    "                   [7, 5, 3, 9, 2, 8, 1, 6, 4],\n",
    "                   [9, 1, 2, 3, 6, 4, 8, 5, 7],\n",
    "                   [5, 6, 1, 2, 9, 3, 4, 7, 8],\n",
    "                   [3, 7, 8, 1, 4, 6, 5, 2, 9],\n",
    "                   [4, 2, 9, 8, 7, 5, 6, 1, 3]]\n",
    "\n",
    "solved_sudoku_3 = [[6, 7, 1, 3, 5, 8, 2, 4, 9],\n",
    "                   [8, 9, 3, 7, 4, 2, 6, 5, 1],\n",
    "                   [2, 4, 5, 9, 6, 1, 8, 7, 3],\n",
    "                   [4, 5, 9, 6, 7, 3, 1, 2, 8],\n",
    "                   [3, 6, 8, 1, 2, 5, 7, 9, 4],\n",
    "                   [7, 1, 2, 8, 9, 4, 3, 6, 5],\n",
    "                   [9, 3, 4, 2, 1, 7, 5, 8, 6],\n",
    "                   [1, 2, 6, 5, 8, 9, 4, 3, 7],\n",
    "                   [5, 8, 7, 4, 3, 6, 9, 1, 2]]\n",
    "\n",
    "solved_sudoku_list = [solved_sudoku_1, solved_sudoku_2, solved_sudoku_3]"
   ]
  },
  {
   "cell_type": "code",
   "execution_count": 117,
   "metadata": {},
   "outputs": [
    {
     "name": "stdout",
     "output_type": "stream",
     "text": [
      "[4, 6, 9, 3, 0, 0, 0, 5, 0]\n",
      "[0, 8, 0, 4, 0, 5, 0, 9, 0]\n",
      "[0, 3, 0, 9, 1, 6, 2, 8, 4]\n",
      "[5, 0, 3, 8, 0, 4, 6, 7, 0]\n",
      "[6, 0, 4, 0, 2, 0, 8, 3, 0]\n",
      "[8, 0, 0, 1, 6, 3, 5, 0, 9]\n",
      "[0, 0, 8, 2, 4, 9, 0, 6, 0]\n",
      "[9, 2, 0, 7, 3, 8, 4, 0, 5]\n",
      "[3, 4, 7, 0, 5, 0, 0, 2, 8]\n"
     ]
    }
   ],
   "source": [
    "#generowanie sudoku o określonej liczbie pustych pól\n",
    "\n",
    "def generate_sudoku(solved, gaps):\n",
    "    sudoku = [[0 for i in range(9)] for j in range(9)]\n",
    "    for i in range(9):\n",
    "        for j in range(9):\n",
    "            sudoku[i][j] = solved[i][j]\n",
    "\n",
    "    while gaps > 0:\n",
    "        i = random.randint(0, 8)\n",
    "        j = random.randint(0, 8)\n",
    "        if sudoku[i][j] != 0:\n",
    "            sudoku[i][j] = 0\n",
    "            gaps -= 1\n",
    "\n",
    "    return sudoku\n",
    "\n",
    "\n",
    "# wybór sudoku do rozwiązania\n",
    "selected_sudoku = random.choice(solved_sudoku_list)\n",
    "generated_sudoku = generate_sudoku(selected_sudoku, 30)\n",
    "\n",
    "for i in generated_sudoku:\n",
    "    print(i)"
   ]
  },
  {
   "cell_type": "code",
   "execution_count": 118,
   "metadata": {},
   "outputs": [],
   "source": [
    "# generowanie pustej planszy\n",
    "def empty_board():\n",
    "    return [[0 for i in range(9)] for j in range(9)]\n",
    "\n",
    "# sprawdzanie ilości unikalnych wartości w wierszu\n",
    "def check_row(board, row):\n",
    "    return len(set(board[row]))\n",
    "\n",
    "# sprawdzanie ilości unikalnych wartości w kolumnie\n",
    "def check_col(board, col):\n",
    "    column = [board[i][col] for i in range(9)]\n",
    "    return len(set(column))\n",
    "\n",
    "# sprawdzanie ilości unikalnych wartości w kwadracie 3x3\n",
    "def check_box(board, row, col):\n",
    "    box = [board[i][j] for i in range(row, row+3) for j in range(col, col+3)]\n",
    "    return len(set(box))\n",
    "\n",
    "# wypełnianie sudoku wartościami z rozwiązania\n",
    "def fill_in(solution):\n",
    "    filled_sudoku = empty_board()\n",
    "    sol_index = 0\n",
    "    for i in range(9):\n",
    "        for j in range(9):\n",
    "            if generated_sudoku[i][j] != 0:\n",
    "                filled_sudoku[i][j] = int(generated_sudoku[i][j])\n",
    "            else:\n",
    "                filled_sudoku[i][j] = int(solution[sol_index])\n",
    "                sol_index += 1\n",
    "    return filled_sudoku\n",
    "    "
   ]
  },
  {
   "cell_type": "code",
   "execution_count": 119,
   "metadata": {},
   "outputs": [],
   "source": [
    "#definiowanie parametrów chromosomu\n",
    "gene_space = [1, 2, 3, 4, 5, 6, 7, 8, 9] "
   ]
  },
  {
   "cell_type": "code",
   "execution_count": 120,
   "metadata": {},
   "outputs": [],
   "source": [
    "#definiowanie funkcji fitness\n",
    "def fitness_func(solution, solution_idx):\n",
    "    filled_sudoku = fill_in(solution)\n",
    "    fitness = 0\n",
    "    for i in range(9):\n",
    "        fitness += check_row(filled_sudoku, i)\n",
    "        fitness += check_col(filled_sudoku, i)\n",
    "    for i in range(0, 9, 3):\n",
    "        for j in range(0, 9, 3):\n",
    "            fitness += check_box(filled_sudoku, i, j)\n",
    "    return fitness\n",
    "\n",
    "fitness_function = fitness_func"
   ]
  },
  {
   "cell_type": "code",
   "execution_count": 121,
   "metadata": {},
   "outputs": [],
   "source": [
    "#definiowanie funkcji liczącej ilość genów\n",
    "def genes_number(sudoku):\n",
    "    genes = 0\n",
    "    for i in range(9):\n",
    "        for j in range(9):\n",
    "            if sudoku[i][j] == 0:\n",
    "                genes += 1\n",
    "    return genes"
   ]
  },
  {
   "cell_type": "code",
   "execution_count": 122,
   "metadata": {},
   "outputs": [],
   "source": [
    "#ile chromsomów w populacji\n",
    "#ile genow ma chromosom\n",
    "sol_per_pop = 400\n",
    "num_genes = genes_number(generated_sudoku)\n",
    "\n",
    "#ile wylaniamy rodzicow do \"rozmanazania\" (okolo 50% populacji)\n",
    "#ile pokolen\n",
    "#ilu rodzicow zachowac (kilka procent)\n",
    "num_parents_mating = sol_per_pop // 2\n",
    "num_generations = 5000\n",
    "keep_parents = sol_per_pop // 13\n",
    "\n",
    "#typ selekcji rodzicow\n",
    "parent_selection_type = \"sss\"\n",
    "\n",
    "#w ilu punktach robic krzyzowanie\n",
    "crossover_type = \"single_point\"\n",
    "\n",
    "#mutacja ma dzialac na ilu procent genow?\n",
    "mutation_type = \"random\"\n",
    "mutation_percent_genes = 2"
   ]
  },
  {
   "cell_type": "code",
   "execution_count": 123,
   "metadata": {},
   "outputs": [],
   "source": [
    "#inicjacja algorytmu z powyzszymi parametrami wpisanymi w atrybuty\n",
    "ga_instance = pygad.GA(gene_space=gene_space,\n",
    "                    num_generations=num_generations,\n",
    "                    num_parents_mating=num_parents_mating,\n",
    "                    fitness_func=fitness_function,\n",
    "                    sol_per_pop=sol_per_pop,\n",
    "                    num_genes=num_genes,\n",
    "                    parent_selection_type=parent_selection_type,\n",
    "                    keep_parents=keep_parents,\n",
    "                    crossover_type=crossover_type,\n",
    "                    mutation_type=mutation_type,\n",
    "                    mutation_percent_genes=mutation_percent_genes,\n",
    "                    stop_criteria=[\"reach_243\", \"saturate_200\"]\n",
    "                    )\n",
    "\n",
    "#uruchomienie algorytmu\n",
    "start_time = time.time()\n",
    "ga_instance.run()\n",
    "end_time = time.time()\n",
    "time_passed = end_time - start_time"
   ]
  },
  {
   "cell_type": "code",
   "execution_count": 124,
   "metadata": {},
   "outputs": [
    {
     "name": "stdout",
     "output_type": "stream",
     "text": [
      "Parameters of the best solution: [8. 2. 1. 7. 2. 1. 7. 3. 6. 7. 5. 9. 9. 1. 1. 5. 7. 2. 7. 2. 4. 1. 5. 7.\n",
      " 3. 6. 1. 6. 1. 9.]\n",
      "Fitness value of the best solution (solved=243) = 241\n",
      "Number of generations passed is 249\n",
      "Time passed: 19.840336322784424\n",
      "\n",
      "Best solution found is:\n",
      "[4, 6, 9, 3, 8, 2, 1, 5, 7]\n",
      "[2, 8, 1, 4, 7, 5, 3, 9, 6]\n",
      "[7, 3, 5, 9, 1, 6, 2, 8, 4]\n",
      "[5, 9, 3, 8, 9, 4, 6, 7, 1]\n",
      "[6, 1, 4, 5, 2, 7, 8, 3, 2]\n",
      "[8, 7, 2, 1, 6, 3, 5, 4, 9]\n",
      "[1, 5, 8, 2, 4, 9, 7, 6, 3]\n",
      "[9, 2, 6, 7, 3, 8, 4, 1, 5]\n",
      "[3, 4, 7, 6, 5, 1, 9, 2, 8]\n",
      "\n",
      "Correct solution is:\n",
      "[4, 6, 9, 3, 8, 2, 1, 5, 7]\n",
      "[2, 8, 1, 4, 7, 5, 3, 9, 6]\n",
      "[7, 3, 5, 9, 1, 6, 2, 8, 4]\n",
      "[5, 1, 3, 8, 9, 4, 6, 7, 2]\n",
      "[6, 9, 4, 5, 2, 7, 8, 3, 1]\n",
      "[8, 7, 2, 1, 6, 3, 5, 4, 9]\n",
      "[1, 5, 8, 2, 4, 9, 7, 6, 3]\n",
      "[9, 2, 6, 7, 3, 8, 4, 1, 5]\n",
      "[3, 4, 7, 6, 5, 1, 9, 2, 8]\n"
     ]
    },
    {
     "data": {
      "image/png": "[encoded data removed]",
      "text/plain": [
       "<Figure size 640x480 with 1 Axes>"
      ]
     },
     "metadata": {},
     "output_type": "display_data"
    },
    {
     "data": {
      "image/png": "[encoded data removed]",
      "text/plain": [
       "<Figure size 640x480 with 1 Axes>"
      ]
     },
     "execution_count": 124,
     "metadata": {},
     "output_type": "execute_result"
    }
   ],
   "source": [
    "#podsumowanie: najlepsze znalezione rozwiazanie (chromosom+ocena)\n",
    "solution, solution_fitness, solution_idx = ga_instance.best_solution()\n",
    "print(\"Parameters of the best solution: {solution}\".format(solution=solution))\n",
    "print(\"Fitness value of the best solution (solved=243) = {solution_fitness}\".format(solution_fitness=solution_fitness))\n",
    "\n",
    "#liczba generacji algorytmu\n",
    "print(\"Number of generations passed is {generations_completed}\".format(generations_completed=ga_instance.generations_completed))\n",
    "\n",
    "#czas trwania algorytmu\n",
    "print(\"Time passed: {time_passed}\".format(time_passed=time_passed) + \"\\n\")\n",
    "\n",
    "#wyswietlenie najlepszego znalezionego rozwiazania\n",
    "print(\"Best solution found is:\")\n",
    "for i in fill_in(solution):\n",
    "    print(i)\n",
    "print(\"\")\n",
    "\n",
    "#porownanie z prawidlowym rozwiazaniem\n",
    "print(\"Correct solution is:\")\n",
    "for i in selected_sudoku:\n",
    "    print(i)\n",
    "\n",
    "#wyswietlenie wykresu: jak zmieniala sie ocena na przestrzeni pokolen\n",
    "ga_instance.plot_fitness()"
   ]
  },
  {
   "cell_type": "code",
   "execution_count": 125,
   "metadata": {},
   "outputs": [
    {
     "name": "stdout",
     "output_type": "stream",
     "text": [
      "Small solved cases:  100\n",
      "Small avg time:  0.9638094091415406\n"
     ]
    }
   ],
   "source": [
    "\n",
    "# sprawdzenie efektywnosci algorytmu dla malych sudoku\n",
    "small_solved_cases = 0\n",
    "small_avg_time = 0\n",
    "for i in range(100):\n",
    "    selected_sudoku = random.choice(solved_sudoku_list)\n",
    "    generated_sudoku = generate_sudoku(selected_sudoku, 10)\n",
    "    num_genes = genes_number(generated_sudoku)\n",
    "    #inicjacja algorytmu z powyzszymi parametrami wpisanymi w atrybuty\n",
    "    ga_instance = pygad.GA(gene_space=gene_space,\n",
    "                        num_generations=num_generations,\n",
    "                        num_parents_mating=num_parents_mating,\n",
    "                        fitness_func=fitness_function,\n",
    "                        sol_per_pop=sol_per_pop,\n",
    "                        num_genes=num_genes,\n",
    "                        parent_selection_type=parent_selection_type,\n",
    "                        keep_parents=keep_parents,\n",
    "                        crossover_type=crossover_type,\n",
    "                        mutation_type=mutation_type,\n",
    "                        mutation_percent_genes=mutation_percent_genes,\n",
    "                        stop_criteria=[\"reach_243\", \"saturate_200\"]\n",
    "                        )\n",
    "    #uruchomienie algorytmu\n",
    "    start_time = time.time()\n",
    "    ga_instance.run()\n",
    "    end_time = time.time()\n",
    "    solution, solution_fitness, solution_idx = ga_instance.best_solution()\n",
    "    if solution_fitness == 243:\n",
    "        small_solved_cases += 1\n",
    "        small_avg_time += end_time - start_time\n",
    "\n",
    "print(\"Small solved cases: \", small_solved_cases)\n",
    "if small_solved_cases != 0:\n",
    "    print(\"Small avg time: \", small_avg_time / small_solved_cases)\n"
   ]
  },
  {
   "attachments": {},
   "cell_type": "markdown",
   "metadata": {},
   "source": [
    "Small solved cases: 100\n",
    "\n",
    "Small avg time: 0.9638094091415406"
   ]
  },
  {
   "cell_type": "code",
   "execution_count": 126,
   "metadata": {},
   "outputs": [
    {
     "name": "stdout",
     "output_type": "stream",
     "text": [
      "Medium solved cases:  99\n",
      "Medium avg time:  2.701251234671082\n"
     ]
    }
   ],
   "source": [
    "# sprawdzenie efektywnosci algorytmu dla srednich sudoku\n",
    "medium_solved_cases = 0\n",
    "medium_avg_time = 0\n",
    "for i in range(100):\n",
    "    selected_sudoku = random.choice(solved_sudoku_list)\n",
    "    generated_sudoku = generate_sudoku(selected_sudoku, 20)\n",
    "    num_genes = genes_number(generated_sudoku)\n",
    "    #inicjacja algorytmu z powyzszymi parametrami wpisanymi w atrybuty\n",
    "    ga_instance = pygad.GA(gene_space=gene_space,\n",
    "                        num_generations=num_generations,\n",
    "                        num_parents_mating=num_parents_mating,\n",
    "                        fitness_func=fitness_function,\n",
    "                        sol_per_pop=sol_per_pop,\n",
    "                        num_genes=num_genes,\n",
    "                        parent_selection_type=parent_selection_type,\n",
    "                        keep_parents=keep_parents,\n",
    "                        crossover_type=crossover_type,\n",
    "                        mutation_type=mutation_type,\n",
    "                        mutation_percent_genes=mutation_percent_genes,\n",
    "                        stop_criteria=[\"reach_243\", \"saturate_200\"]\n",
    "                        )\n",
    "    #uruchomienie algorytmu\n",
    "    start_time = time.time()\n",
    "    ga_instance.run()\n",
    "    end_time = time.time()\n",
    "    solution, solution_fitness, solution_idx = ga_instance.best_solution()\n",
    "    if solution_fitness == 243:\n",
    "        medium_solved_cases += 1\n",
    "        medium_avg_time += end_time - start_time\n",
    "\n",
    "print(\"Medium solved cases: \", medium_solved_cases)\n",
    "if medium_solved_cases != 0:\n",
    "    print(\"Medium avg time: \", medium_avg_time / medium_solved_cases)"
   ]
  },
  {
   "attachments": {},
   "cell_type": "markdown",
   "metadata": {},
   "source": [
    "Medium solved cases: 99\n",
    "\n",
    "Medium avg time: 2.701251234671082"
   ]
  },
  {
   "cell_type": "code",
   "execution_count": 127,
   "metadata": {},
   "outputs": [
    {
     "name": "stdout",
     "output_type": "stream",
     "text": [
      "Big solved cases:  86\n",
      "Big avg time:  5.717752026957135\n"
     ]
    }
   ],
   "source": [
    "# sprawdzenie efektywnosci algorytmu dla duzych sudoku\n",
    "big_solved_cases = 0\n",
    "big_avg_time = 0\n",
    "for i in range(100):\n",
    "    selected_sudoku = random.choice(solved_sudoku_list)\n",
    "    generated_sudoku = generate_sudoku(selected_sudoku, 30)\n",
    "    num_genes = genes_number(generated_sudoku)\n",
    "    #inicjacja algorytmu z powyzszymi parametrami wpisanymi w atrybuty\n",
    "    ga_instance = pygad.GA(gene_space=gene_space,\n",
    "                        num_generations=num_generations,\n",
    "                        num_parents_mating=num_parents_mating,\n",
    "                        fitness_func=fitness_function,\n",
    "                        sol_per_pop=sol_per_pop,\n",
    "                        num_genes=num_genes,\n",
    "                        parent_selection_type=parent_selection_type,\n",
    "                        keep_parents=keep_parents,\n",
    "                        crossover_type=crossover_type,\n",
    "                        mutation_type=mutation_type,\n",
    "                        mutation_percent_genes=mutation_percent_genes,\n",
    "                        stop_criteria=[\"reach_243\", \"saturate_200\"]\n",
    "                        )\n",
    "    #uruchomienie algorytmu\n",
    "    start_time = time.time()\n",
    "    ga_instance.run()\n",
    "    end_time = time.time()\n",
    "    solution, solution_fitness, solution_idx = ga_instance.best_solution()\n",
    "    if solution_fitness == 243:\n",
    "        big_solved_cases += 1\n",
    "        big_avg_time += end_time - start_time\n",
    "\n",
    "print(\"Big solved cases: \", big_solved_cases)\n",
    "if big_solved_cases != 0:\n",
    "    print(\"Big avg time: \", big_avg_time / big_solved_cases)"
   ]
  },
  {
   "attachments": {},
   "cell_type": "markdown",
   "metadata": {},
   "source": [
    "Big solved cases: 86\n",
    "\n",
    "Big avg time: 5.717752026957135"
   ]
  },
  {
   "attachments": {},
   "cell_type": "markdown",
   "metadata": {},
   "source": [
    "### Drugie rozwiązanie problemu przy pomocy algorytmu genetycznego z wykorzystaniem innej funkcji fitness"
   ]
  },
  {
   "cell_type": "code",
   "execution_count": 131,
   "metadata": {},
   "outputs": [],
   "source": [
    "#ilosc unikalnych wierszy w sudoku\n",
    "def unique_rows(sudoku):\n",
    "    counter = 0\n",
    "    for i in range(9):\n",
    "        if len(set(sudoku[i])) == 9:\n",
    "            counter += 1\n",
    "    return counter\n",
    "\n",
    "#ilosc unikalnych kolumn w sudoku\n",
    "def unique_columns(sudoku):\n",
    "    counter = 0\n",
    "    for i in range(9):\n",
    "        column = []\n",
    "        for j in range(9):\n",
    "            column.append(sudoku[j][i])\n",
    "        if len(set(column)) == 9:\n",
    "            counter += 1\n",
    "    return counter\n",
    "\n",
    "#ilosc unikalnych kwadratow 3x3 w sudoku\n",
    "def unique_squares(sudoku):\n",
    "    counter = 0\n",
    "    for i in range(0, 9, 3):\n",
    "        for j in range(0, 9, 3):\n",
    "            square = []\n",
    "            for k in range(3):\n",
    "                for l in range(3):\n",
    "                    square.append(sudoku[i + k][j + l])\n",
    "            if len(set(square)) == 9:\n",
    "                counter += 1\n",
    "    return counter"
   ]
  },
  {
   "cell_type": "code",
   "execution_count": 132,
   "metadata": {},
   "outputs": [],
   "source": [
    "# nowa funkcja fitness\n",
    "def new_fitness_function(solution, solution_idx):\n",
    "    sudoku = fill_in(solution)\n",
    "    return unique_rows(sudoku) + unique_columns(sudoku) + unique_squares(sudoku)\n",
    "\n",
    "fitness_function = new_fitness_function"
   ]
  },
  {
   "cell_type": "code",
   "execution_count": 133,
   "metadata": {},
   "outputs": [
    {
     "name": "stdout",
     "output_type": "stream",
     "text": [
      "[6, 0, 0, 3, 5, 8, 2, 4, 9]\n",
      "[8, 9, 3, 7, 4, 2, 6, 0, 1]\n",
      "[2, 4, 0, 0, 6, 0, 8, 0, 0]\n",
      "[4, 5, 9, 0, 7, 0, 1, 2, 0]\n",
      "[3, 0, 8, 0, 2, 5, 7, 0, 4]\n",
      "[7, 1, 2, 8, 0, 4, 0, 0, 5]\n",
      "[0, 3, 4, 0, 1, 0, 5, 0, 6]\n",
      "[1, 2, 0, 0, 8, 0, 4, 0, 7]\n",
      "[0, 8, 0, 4, 0, 6, 0, 1, 0]\n"
     ]
    }
   ],
   "source": [
    "# wybor sudoku\n",
    "selected_sudoku = random.choice(solved_sudoku_list)\n",
    "generated_sudoku = generate_sudoku(selected_sudoku, 30)\n",
    "num_genes = genes_number(generated_sudoku)\n",
    "\n",
    "for i in generated_sudoku:\n",
    "    print(i)"
   ]
  },
  {
   "cell_type": "code",
   "execution_count": 134,
   "metadata": {},
   "outputs": [
    {
     "name": "stderr",
     "output_type": "stream",
     "text": [
      "C:\\Users\\szymo\\AppData\\Roaming\\Python\\Python311\\site-packages\\pygad\\pygad.py:522: UserWarning: The percentage of genes to mutate (mutation_percent_genes=2) resutled in selecting (0) genes. The number of genes to mutate is set to 1 (mutation_num_genes=1).\n",
      "If you do not want to mutate any gene, please set mutation_type=None.\n",
      "  if not self.suppress_warnings: warnings.warn(\"The percentage of genes to mutate (mutation_percent_genes={mutation_percent}) resutled in selecting ({mutation_num}) genes. The number of genes to mutate is set to 1 (mutation_num_genes=1).\\nIf you do not want to mutate any gene, please set mutation_type=None.\".format(mutation_percent=mutation_percent_genes, mutation_num=mutation_num_genes))\n"
     ]
    }
   ],
   "source": [
    "#inicjacja algorytmu z powyzszymi parametrami wpisanymi w atrybuty\n",
    "ga_instance = pygad.GA(gene_space=gene_space,\n",
    "                    num_generations=num_generations,\n",
    "                    num_parents_mating=num_parents_mating,\n",
    "                    fitness_func=fitness_function,\n",
    "                    sol_per_pop=sol_per_pop,\n",
    "                    num_genes=num_genes,\n",
    "                    parent_selection_type=parent_selection_type,\n",
    "                    keep_parents=keep_parents,\n",
    "                    crossover_type=crossover_type,\n",
    "                    mutation_type=mutation_type,\n",
    "                    mutation_percent_genes=mutation_percent_genes,\n",
    "                    stop_criteria=[\"reach_27\", \"saturate_200\"]\n",
    "                    )\n",
    "\n",
    "#uruchomienie algorytmu\n",
    "start_time = time.time()\n",
    "ga_instance.run()\n",
    "end_time = time.time()\n",
    "time_passed = end_time - start_time"
   ]
  },
  {
   "cell_type": "code",
   "execution_count": 135,
   "metadata": {},
   "outputs": [
    {
     "name": "stdout",
     "output_type": "stream",
     "text": [
      "Parameters of the best solution: [7. 1. 5. 5. 1. 9. 3. 7. 9. 6. 4. 6. 1. 9. 3. 9. 6. 9. 2. 8. 7. 7. 3. 5.\n",
      " 8. 5. 6. 9. 3. 3.]\n",
      "Fitness value of the best solution (solved=243) = 18\n",
      "Number of generations passed is 251\n",
      "Time passed: 25.665995836257935\n",
      "\n",
      "Best solution found is:\n",
      "[6, 7, 1, 3, 5, 8, 2, 4, 9]\n",
      "[8, 9, 3, 7, 4, 2, 6, 5, 1]\n",
      "[2, 4, 5, 1, 6, 9, 8, 3, 7]\n",
      "[4, 5, 9, 9, 7, 6, 1, 2, 4]\n",
      "[3, 6, 8, 1, 2, 5, 7, 9, 4]\n",
      "[7, 1, 2, 8, 3, 4, 9, 6, 5]\n",
      "[9, 3, 4, 2, 1, 8, 5, 7, 6]\n",
      "[1, 2, 7, 3, 8, 5, 4, 8, 7]\n",
      "[5, 8, 6, 4, 9, 6, 3, 1, 3]\n",
      "\n",
      "Correct solution is:\n",
      "[6, 7, 1, 3, 5, 8, 2, 4, 9]\n",
      "[8, 9, 3, 7, 4, 2, 6, 5, 1]\n",
      "[2, 4, 5, 9, 6, 1, 8, 7, 3]\n",
      "[4, 5, 9, 6, 7, 3, 1, 2, 8]\n",
      "[3, 6, 8, 1, 2, 5, 7, 9, 4]\n",
      "[7, 1, 2, 8, 9, 4, 3, 6, 5]\n",
      "[9, 3, 4, 2, 1, 7, 5, 8, 6]\n",
      "[1, 2, 6, 5, 8, 9, 4, 3, 7]\n",
      "[5, 8, 7, 4, 3, 6, 9, 1, 2]\n"
     ]
    },
    {
     "data": {
      "image/png": "[encoded data removed]",
      "text/plain": [
       "<Figure size 640x480 with 1 Axes>"
      ]
     },
     "metadata": {},
     "output_type": "display_data"
    },
    {
     "data": {
      "image/png": "[encoded data removed]",
      "text/plain": [
       "<Figure size 640x480 with 1 Axes>"
      ]
     },
     "execution_count": 135,
     "metadata": {},
     "output_type": "execute_result"
    }
   ],
   "source": [
    "#podsumowanie: najlepsze znalezione rozwiazanie (chromosom+ocena)\n",
    "solution, solution_fitness, solution_idx = ga_instance.best_solution()\n",
    "print(\"Parameters of the best solution: {solution}\".format(solution=solution))\n",
    "print(\"Fitness value of the best solution (solved=27) = {solution_fitness}\".format(solution_fitness=solution_fitness))\n",
    "\n",
    "#liczba generacji algorytmu\n",
    "print(\"Number of generations passed is {generations_completed}\".format(generations_completed=ga_instance.generations_completed))\n",
    "\n",
    "#czas wykonania algorytmu\n",
    "print(\"Time passed: {time_passed}\".format(time_passed=time_passed) + \"\\n\")\n",
    "\n",
    "#najlepsze znalezione rozwiazanie\n",
    "print(\"Best solution found is:\")\n",
    "for i in fill_in(solution):\n",
    "    print(i)\n",
    "print(\"\")\n",
    "\n",
    "#poprawne rozwiazanie\n",
    "print(\"Correct solution is:\")\n",
    "for i in selected_sudoku:\n",
    "    print(i)\n",
    "\n",
    "#wyswietlenie wykresu: jak zmieniala sie ocena na przestrzeni pokolen\n",
    "ga_instance.plot_fitness()"
   ]
  },
  {
   "cell_type": "code",
   "execution_count": 136,
   "metadata": {},
   "outputs": [
    {
     "name": "stderr",
     "output_type": "stream",
     "text": [
      "C:\\Users\\szymo\\AppData\\Roaming\\Python\\Python311\\site-packages\\pygad\\pygad.py:522: UserWarning: The percentage of genes to mutate (mutation_percent_genes=2) resutled in selecting (0) genes. The number of genes to mutate is set to 1 (mutation_num_genes=1).\n",
      "If you do not want to mutate any gene, please set mutation_type=None.\n",
      "  if not self.suppress_warnings: warnings.warn(\"The percentage of genes to mutate (mutation_percent_genes={mutation_percent}) resutled in selecting ({mutation_num}) genes. The number of genes to mutate is set to 1 (mutation_num_genes=1).\\nIf you do not want to mutate any gene, please set mutation_type=None.\".format(mutation_percent=mutation_percent_genes, mutation_num=mutation_num_genes))\n"
     ]
    },
    {
     "name": "stdout",
     "output_type": "stream",
     "text": [
      "Small solved cases:  100\n",
      "Small avg time:  1.023431544303894\n"
     ]
    }
   ],
   "source": [
    "# sprawdzenie efektywnosci algorytmu dla malych sudoku\n",
    "small_solved_cases = 0\n",
    "small_avg_time = 0\n",
    "for i in range(100):\n",
    "    selected_sudoku = random.choice(solved_sudoku_list)\n",
    "    generated_sudoku = generate_sudoku(selected_sudoku, 10)\n",
    "    num_genes = genes_number(generated_sudoku)\n",
    "    #inicjacja algorytmu z powyzszymi parametrami wpisanymi w atrybuty\n",
    "    ga_instance = pygad.GA(gene_space=gene_space,\n",
    "                        num_generations=num_generations,\n",
    "                        num_parents_mating=num_parents_mating,\n",
    "                        fitness_func=fitness_function,\n",
    "                        sol_per_pop=sol_per_pop,\n",
    "                        num_genes=num_genes,\n",
    "                        parent_selection_type=parent_selection_type,\n",
    "                        keep_parents=keep_parents,\n",
    "                        crossover_type=crossover_type,\n",
    "                        mutation_type=mutation_type,\n",
    "                        mutation_percent_genes=mutation_percent_genes,\n",
    "                        stop_criteria=[\"reach_27\", \"saturate_200\"]\n",
    "                        )\n",
    "    #uruchomienie algorytmu\n",
    "    start_time = time.time()\n",
    "    ga_instance.run()\n",
    "    end_time = time.time()\n",
    "    solution, solution_fitness, solution_idx = ga_instance.best_solution()\n",
    "    if solution_fitness == 27:\n",
    "        small_solved_cases += 1\n",
    "        small_avg_time += end_time - start_time\n",
    "\n",
    "print(\"Small solved cases: \", small_solved_cases)\n",
    "if small_solved_cases != 0:\n",
    "    print(\"Small avg time: \", small_avg_time / small_solved_cases)"
   ]
  },
  {
   "attachments": {},
   "cell_type": "markdown",
   "metadata": {},
   "source": [
    "Small solved cases: 100\n",
    "\n",
    "Small avg time: 1.023431544303894"
   ]
  },
  {
   "cell_type": "code",
   "execution_count": 137,
   "metadata": {},
   "outputs": [
    {
     "name": "stdout",
     "output_type": "stream",
     "text": [
      "Medium solved cases:  96\n",
      "Medium avg time:  4.133039007584254\n"
     ]
    }
   ],
   "source": [
    "# sprawdzenie efektywnosci algorytmu dla srednich sudoku\n",
    "medium_solved_cases = 0\n",
    "medium_avg_time = 0\n",
    "for i in range(100):\n",
    "    selected_sudoku = random.choice(solved_sudoku_list)\n",
    "    generated_sudoku = generate_sudoku(selected_sudoku, 20)\n",
    "    num_genes = genes_number(generated_sudoku)\n",
    "    #inicjacja algorytmu z powyzszymi parametrami wpisanymi w atrybuty\n",
    "    ga_instance = pygad.GA(gene_space=gene_space,\n",
    "                        num_generations=num_generations,\n",
    "                        num_parents_mating=num_parents_mating,\n",
    "                        fitness_func=fitness_function,\n",
    "                        sol_per_pop=sol_per_pop,\n",
    "                        num_genes=num_genes,\n",
    "                        parent_selection_type=parent_selection_type,\n",
    "                        keep_parents=keep_parents,\n",
    "                        crossover_type=crossover_type,\n",
    "                        mutation_type=mutation_type,\n",
    "                        mutation_percent_genes=mutation_percent_genes,\n",
    "                        stop_criteria=[\"reach_27\", \"saturate_200\"]\n",
    "                        )\n",
    "    #uruchomienie algorytmu\n",
    "    start_time = time.time()\n",
    "    ga_instance.run()\n",
    "    end_time = time.time()\n",
    "    solution, solution_fitness, solution_idx = ga_instance.best_solution()\n",
    "    if solution_fitness == 27:\n",
    "        medium_solved_cases += 1\n",
    "        medium_avg_time += end_time - start_time\n",
    "\n",
    "print(\"Medium solved cases: \", medium_solved_cases)\n",
    "if medium_solved_cases != 0:\n",
    "    print(\"Medium avg time: \", medium_avg_time / medium_solved_cases)"
   ]
  },
  {
   "attachments": {},
   "cell_type": "markdown",
   "metadata": {},
   "source": [
    "Medium solved cases:  96\n",
    "\n",
    "Medium avg time:  4.133039007584254"
   ]
  },
  {
   "cell_type": "code",
   "execution_count": 138,
   "metadata": {},
   "outputs": [
    {
     "name": "stdout",
     "output_type": "stream",
     "text": [
      "Big solved cases:  40\n",
      "Big avg time:  11.377614229917526\n"
     ]
    }
   ],
   "source": [
    "# sprawdzenie efektywnosci algorytmu dla duzych sudoku\n",
    "big_solved_cases = 0\n",
    "big_avg_time = 0\n",
    "for i in range(100):\n",
    "    selected_sudoku = random.choice(solved_sudoku_list)\n",
    "    generated_sudoku = generate_sudoku(selected_sudoku, 30)\n",
    "    num_genes = genes_number(generated_sudoku)\n",
    "    #inicjacja algorytmu z powyzszymi parametrami wpisanymi w atrybuty\n",
    "    ga_instance = pygad.GA(gene_space=gene_space,\n",
    "                        num_generations=num_generations,\n",
    "                        num_parents_mating=num_parents_mating,\n",
    "                        fitness_func=fitness_function,\n",
    "                        sol_per_pop=sol_per_pop,\n",
    "                        num_genes=num_genes,\n",
    "                        parent_selection_type=parent_selection_type,\n",
    "                        keep_parents=keep_parents,\n",
    "                        crossover_type=crossover_type,\n",
    "                        mutation_type=mutation_type,\n",
    "                        mutation_percent_genes=mutation_percent_genes,\n",
    "                        stop_criteria=[\"reach_27\", \"saturate_200\"]\n",
    "                        )\n",
    "    #uruchomienie algorytmu\n",
    "    start_time = time.time()\n",
    "    ga_instance.run()\n",
    "    end_time = time.time()\n",
    "    solution, solution_fitness, solution_idx = ga_instance.best_solution()\n",
    "    if solution_fitness == 27:\n",
    "        big_solved_cases += 1\n",
    "        big_avg_time += end_time - start_time\n",
    "\n",
    "print(\"Big solved cases: \", big_solved_cases)\n",
    "if big_solved_cases != 0:\n",
    "    print(\"Big avg time: \", big_avg_time / big_solved_cases)"
   ]
  },
  {
   "attachments": {},
   "cell_type": "markdown",
   "metadata": {},
   "source": [
    "Big solved cases:  40\n",
    "\n",
    "Big avg time:  11.377614229917526"
   ]
  },
  {
   "attachments": {},
   "cell_type": "markdown",
   "metadata": {},
   "source": [
    "# PODSUMOWANIE\n",
    "\n",
    "Algorytm genetyczny w miarę dobrze sprawdza się w przypadku sudoku. Niestety problem ten jest bardzo złożony, gdyż mamy do czynienia z dużą ilością możliwych rozwiązań. Dla każdego pustego pola istnieje aż 9 kombinacji cyfr, które mogą się w nim znaleźć. Z każdym kolejnym polem ilość możliwych rozwizać znacząco rośnie co powoduje wydłużenie czasu działania algorytmu, a dla bardzo dużych łamigłówek rozwiązania często są błędne. \n",
    "\n",
    "\n",
    "Pierwsza funkcja fitness sprawdza sumę unikalnych cyfr w każdym wierszu, kolumnie i kwadracie. Najkorzystniejszą wartością w tym przypadku jest 243, co jest równoważne z rozwiązaniem sudoku.\n",
    "\n",
    "\n",
    "Druga funckja fitness sprawdza sumę unikalnych wierszy, kolumn i kwadratów. Najkorzystniejszą wartością w tym przypadku jest 27, co jest równoważne z rozwiązaniem sudoku.\n",
    "\n",
    "\n",
    "Wyniki pierwszej funkcji są znacznie bardziej precyzyjne i rozwiązania są szybciej odnajdowane.\n",
    "\n",
    "\n",
    "### BIBLIOGRAFIA\n",
    "\n",
    "https://pl.wikipedia.org/wiki/Sudoku\n",
    "\n",
    "https://pygad.readthedocs.io/en/latest/\n",
    "\n"
   ]
  }
 ],
 "metadata": {
  "kernelspec": {
   "display_name": "Python 3",
   "language": "python",
   "name": "python3"
  },
  "language_info": {
   "codemirror_mode": {
    "name": "ipython",
    "version": 3
   },
   "file_extension": ".py",
   "mimetype": "text/x-python",
   "name": "python",
   "nbconvert_exporter": "python",
   "pygments_lexer": "ipython3",
   "version": "3.11.2"
  },
  "orig_nbformat": 4
 },
 "nbformat": 4,
 "nbformat_minor": 2
}
