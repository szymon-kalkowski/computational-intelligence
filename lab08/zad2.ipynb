{
 "cells": [
  {
   "cell_type": "code",
   "execution_count": 4,
   "metadata": {},
   "outputs": [
    {
     "name": "stderr",
     "output_type": "stream",
     "text": [
      "[nltk_data] Downloading package vader_lexicon to\n",
      "[nltk_data]     C:\\Users\\szymo\\AppData\\Roaming\\nltk_data...\n",
      "[nltk_data]   Package vader_lexicon is already up-to-date!\n"
     ]
    }
   ],
   "source": [
    "import nltk\n",
    "import text2emotion as te\n",
    "from nltk.sentiment.vader import SentimentIntensityAnalyzer\n",
    "\n",
    "nltk.download('vader_lexicon')\n",
    "\n",
    "sid = SentimentIntensityAnalyzer()\n",
    "\n",
    "f = open('good_opinion.txt', 'r')\n",
    "good_opinion = f.read()\n",
    "f.close()\n",
    "\n",
    "f = open('bad_opinion.txt', 'r')\n",
    "bad_opinion = f.read()\n",
    "f.close()"
   ]
  },
  {
   "cell_type": "code",
   "execution_count": 5,
   "metadata": {},
   "outputs": [
    {
     "name": "stdout",
     "output_type": "stream",
     "text": [
      "Good opinion score: \n",
      "compound: 0.9867, \n",
      "neg: 0.0, \n",
      "neu: 0.824, \n",
      "pos: 0.176, \n",
      "\n",
      "\n",
      "Bad opinion score: \n",
      "compound: -0.8858, \n",
      "neg: 0.093, \n",
      "neu: 0.864, \n",
      "pos: 0.043, \n"
     ]
    }
   ],
   "source": [
    "print(\"Good opinion score: \")\n",
    "ss = sid.polarity_scores(good_opinion)\n",
    "for k in sorted(ss):\n",
    "    print('{0}: {1}, '.format(k, ss[k]), end='')\n",
    "    print()\n",
    "\n",
    "print(\"\\n\")\n",
    "\n",
    "print(\"Bad opinion score: \")\n",
    "ss = sid.polarity_scores(bad_opinion)\n",
    "for k in sorted(ss):\n",
    "    print('{0}: {1}, '.format(k, ss[k]), end='')\n",
    "    print()"
   ]
  },
  {
   "cell_type": "code",
   "execution_count": 6,
   "metadata": {},
   "outputs": [
    {
     "name": "stdout",
     "output_type": "stream",
     "text": [
      "Good opinion emotion: \n"
     ]
    },
    {
     "ename": "AttributeError",
     "evalue": "module 'emoji' has no attribute 'UNICODE_EMOJI'",
     "output_type": "error",
     "traceback": [
      "\u001b[1;31m---------------------------------------------------------------------------\u001b[0m",
      "\u001b[1;31mAttributeError\u001b[0m                            Traceback (most recent call last)",
      "Cell \u001b[1;32mIn[6], line 2\u001b[0m\n\u001b[0;32m      1\u001b[0m \u001b[39mprint\u001b[39m(\u001b[39m\"\u001b[39m\u001b[39mGood opinion emotion: \u001b[39m\u001b[39m\"\u001b[39m)\n\u001b[1;32m----> 2\u001b[0m \u001b[39mprint\u001b[39m(te\u001b[39m.\u001b[39;49mget_emotion(good_opinion))\n\u001b[0;32m      4\u001b[0m \u001b[39mprint\u001b[39m(\u001b[39m\"\u001b[39m\u001b[39m\\n\u001b[39;00m\u001b[39m\"\u001b[39m)\n\u001b[0;32m      6\u001b[0m \u001b[39mprint\u001b[39m(\u001b[39m\"\u001b[39m\u001b[39mBad opinion emotion: \u001b[39m\u001b[39m\"\u001b[39m)\n",
      "File \u001b[1;32m~\\AppData\\Roaming\\Python\\Python311\\site-packages\\text2emotion\\__init__.py:2716\u001b[0m, in \u001b[0;36mget_emotion\u001b[1;34m(input)\u001b[0m\n\u001b[0;32m   2713\u001b[0m     \u001b[39m# print(clean_text)\u001b[39;00m\n\u001b[0;32m   2714\u001b[0m     \u001b[39mreturn\u001b[39;00m clean_text\n\u001b[1;32m-> 2716\u001b[0m text \u001b[39m=\u001b[39m cleaning(\u001b[39minput\u001b[39;49m)\u001b[39m.\u001b[39msplit()\n\u001b[0;32m   2717\u001b[0m emotion_values \u001b[39m=\u001b[39m []\n\u001b[0;32m   2718\u001b[0m emotions \u001b[39m=\u001b[39m {\u001b[39m\"\u001b[39m\u001b[39mHappy\u001b[39m\u001b[39m\"\u001b[39m: \u001b[39m0\u001b[39m, \u001b[39m\"\u001b[39m\u001b[39mAngry\u001b[39m\u001b[39m\"\u001b[39m: \u001b[39m0\u001b[39m, \u001b[39m\"\u001b[39m\u001b[39mSurprise\u001b[39m\u001b[39m\"\u001b[39m: \u001b[39m0\u001b[39m, \u001b[39m\"\u001b[39m\u001b[39mSad\u001b[39m\u001b[39m\"\u001b[39m: \u001b[39m0\u001b[39m, \u001b[39m\"\u001b[39m\u001b[39mFear\u001b[39m\u001b[39m\"\u001b[39m: \u001b[39m0\u001b[39m}\n",
      "File \u001b[1;32m~\\AppData\\Roaming\\Python\\Python311\\site-packages\\text2emotion\\__init__.py:2700\u001b[0m, in \u001b[0;36mget_emotion.<locals>.cleaning\u001b[1;34m(text)\u001b[0m\n\u001b[0;32m   2698\u001b[0m \u001b[39mdef\u001b[39;00m \u001b[39mcleaning\u001b[39m(text):\n\u001b[0;32m   2699\u001b[0m     text \u001b[39m=\u001b[39m text\u001b[39m.\u001b[39mlower()\n\u001b[1;32m-> 2700\u001b[0m     text \u001b[39m=\u001b[39m emojis_extractor(text)\n\u001b[0;32m   2701\u001b[0m     text \u001b[39m=\u001b[39m re\u001b[39m.\u001b[39msub(\u001b[39mr\u001b[39m\u001b[39m'\u001b[39m\u001b[39mhttp\u001b[39m\u001b[39m\\\u001b[39m\u001b[39mS+|www.\u001b[39m\u001b[39m\\\u001b[39m\u001b[39mS+\u001b[39m\u001b[39m'\u001b[39m, \u001b[39m'\u001b[39m\u001b[39m'\u001b[39m, text)\n\u001b[0;32m   2702\u001b[0m     text \u001b[39m=\u001b[39m removing_contradictions(text)\n",
      "File \u001b[1;32m~\\AppData\\Roaming\\Python\\Python311\\site-packages\\text2emotion\\__init__.py:2569\u001b[0m, in \u001b[0;36mget_emotion.<locals>.emojis_extractor\u001b[1;34m(text)\u001b[0m\n\u001b[0;32m   2078\u001b[0m \u001b[39mdef\u001b[39;00m \u001b[39memojis_extractor\u001b[39m(text):\n\u001b[0;32m   2079\u001b[0m     emoj \u001b[39m=\u001b[39m {\u001b[39m'\u001b[39m\u001b[39mEmoji\u001b[39m\u001b[39m'\u001b[39m: [\u001b[39m'\u001b[39m\u001b[39m👏 🏾\u001b[39m\u001b[39m'\u001b[39m,\n\u001b[0;32m   2080\u001b[0m                       \u001b[39m'\u001b[39m\u001b[39m👏 🏼\u001b[39m\u001b[39m'\u001b[39m,\n\u001b[0;32m   2081\u001b[0m                       \u001b[39m'\u001b[39m\u001b[39m👏 🏽\u001b[39m\u001b[39m'\u001b[39m,\n\u001b[1;32m   (...)\u001b[0m\n\u001b[0;32m   2567\u001b[0m                         \u001b[39m'\u001b[39m\u001b[39mFear\u001b[39m\u001b[39m'\u001b[39m,\n\u001b[0;32m   2568\u001b[0m                         \u001b[39m'\u001b[39m\u001b[39mFear\u001b[39m\u001b[39m'\u001b[39m]}\n\u001b[1;32m-> 2569\u001b[0m     a \u001b[39m=\u001b[39m \u001b[39m\"\u001b[39;49m\u001b[39m \u001b[39;49m\u001b[39m\"\u001b[39;49m\u001b[39m.\u001b[39;49mjoin(c \u001b[39mfor\u001b[39;49;00m c \u001b[39min\u001b[39;49;00m text \u001b[39mif\u001b[39;49;00m c \u001b[39min\u001b[39;49;00m emoji\u001b[39m.\u001b[39;49mUNICODE_EMOJI)\u001b[39m.\u001b[39msplit()\n\u001b[0;32m   2570\u001b[0m     \u001b[39mfor\u001b[39;00m i \u001b[39min\u001b[39;00m a:\n\u001b[0;32m   2571\u001b[0m         \u001b[39mtry\u001b[39;00m:\n",
      "File \u001b[1;32m~\\AppData\\Roaming\\Python\\Python311\\site-packages\\text2emotion\\__init__.py:2569\u001b[0m, in \u001b[0;36m<genexpr>\u001b[1;34m(.0)\u001b[0m\n\u001b[0;32m   2078\u001b[0m \u001b[39mdef\u001b[39;00m \u001b[39memojis_extractor\u001b[39m(text):\n\u001b[0;32m   2079\u001b[0m     emoj \u001b[39m=\u001b[39m {\u001b[39m'\u001b[39m\u001b[39mEmoji\u001b[39m\u001b[39m'\u001b[39m: [\u001b[39m'\u001b[39m\u001b[39m👏 🏾\u001b[39m\u001b[39m'\u001b[39m,\n\u001b[0;32m   2080\u001b[0m                       \u001b[39m'\u001b[39m\u001b[39m👏 🏼\u001b[39m\u001b[39m'\u001b[39m,\n\u001b[0;32m   2081\u001b[0m                       \u001b[39m'\u001b[39m\u001b[39m👏 🏽\u001b[39m\u001b[39m'\u001b[39m,\n\u001b[1;32m   (...)\u001b[0m\n\u001b[0;32m   2567\u001b[0m                         \u001b[39m'\u001b[39m\u001b[39mFear\u001b[39m\u001b[39m'\u001b[39m,\n\u001b[0;32m   2568\u001b[0m                         \u001b[39m'\u001b[39m\u001b[39mFear\u001b[39m\u001b[39m'\u001b[39m]}\n\u001b[1;32m-> 2569\u001b[0m     a \u001b[39m=\u001b[39m \u001b[39m\"\u001b[39m\u001b[39m \u001b[39m\u001b[39m\"\u001b[39m\u001b[39m.\u001b[39mjoin(c \u001b[39mfor\u001b[39;00m c \u001b[39min\u001b[39;00m text \u001b[39mif\u001b[39;00m c \u001b[39min\u001b[39;00m emoji\u001b[39m.\u001b[39;49mUNICODE_EMOJI)\u001b[39m.\u001b[39msplit()\n\u001b[0;32m   2570\u001b[0m     \u001b[39mfor\u001b[39;00m i \u001b[39min\u001b[39;00m a:\n\u001b[0;32m   2571\u001b[0m         \u001b[39mtry\u001b[39;00m:\n",
      "\u001b[1;31mAttributeError\u001b[0m: module 'emoji' has no attribute 'UNICODE_EMOJI'"
     ]
    }
   ],
   "source": [
    "print(\"Good opinion emotion: \")\n",
    "print(te.get_emotion(good_opinion))\n",
    "\n",
    "print(\"\\n\")\n",
    "\n",
    "print(\"Bad opinion emotion: \")\n",
    "print(te.get_emotion(bad_opinion))"
   ]
  }
 ],
 "metadata": {
  "kernelspec": {
   "display_name": "Python 3",
   "language": "python",
   "name": "python3"
  },
  "language_info": {
   "codemirror_mode": {
    "name": "ipython",
    "version": 3
   },
   "file_extension": ".py",
   "mimetype": "text/x-python",
   "name": "python",
   "nbconvert_exporter": "python",
   "pygments_lexer": "ipython3",
   "version": "3.11.2"
  },
  "orig_nbformat": 4
 },
 "nbformat": 4,
 "nbformat_minor": 2
}
