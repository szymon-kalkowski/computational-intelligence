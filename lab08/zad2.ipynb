{
 "cells": [
  {
   "cell_type": "code",
   "execution_count": null,
   "metadata": {},
   "outputs": [],
   "source": [
    "import nltk\n",
    "import text2emotion as te\n",
    "from nltk.sentiment.vader import SentimentIntensityAnalyzer\n",
    "\n",
    "nltk.download('vader_lexicon')\n",
    "\n",
    "sid = SentimentIntensityAnalyzer()\n",
    "\n",
    "f = open('good_opinion.txt', 'r')\n",
    "good_opinion = f.read()\n",
    "f.close()\n",
    "\n",
    "f = open('bad_opinion.txt', 'r')\n",
    "bad_opinion = f.read()\n",
    "f.close()"
   ]
  },
  {
   "cell_type": "code",
   "execution_count": 2,
   "metadata": {},
   "outputs": [
    {
     "name": "stdout",
     "output_type": "stream",
     "text": [
      "Good opinion score: \n",
      "compound: 0.9867, \n",
      "neg: 0.0, \n",
      "neu: 0.824, \n",
      "pos: 0.176, \n",
      "\n",
      "\n",
      "Bad opinion score: \n",
      "compound: -0.8858, \n",
      "neg: 0.093, \n",
      "neu: 0.864, \n",
      "pos: 0.043, \n"
     ]
    }
   ],
   "source": [
    "print(\"Good opinion score: \")\n",
    "ss = sid.polarity_scores(good_opinion)\n",
    "for k in sorted(ss):\n",
    "    print('{0}: {1}, '.format(k, ss[k]), end='')\n",
    "    print()\n",
    "\n",
    "print(\"\\n\")\n",
    "\n",
    "print(\"Bad opinion score: \")\n",
    "ss = sid.polarity_scores(bad_opinion)\n",
    "for k in sorted(ss):\n",
    "    print('{0}: {1}, '.format(k, ss[k]), end='')\n",
    "    print()"
   ]
  },
  {
   "cell_type": "code",
   "execution_count": 3,
   "metadata": {},
   "outputs": [
    {
     "name": "stdout",
     "output_type": "stream",
     "text": [
      "Good opinion emotion: \n",
      "{'Happy': 0.25, 'Angry': 0.11, 'Surprise': 0.14, 'Sad': 0.18, 'Fear': 0.32}\n",
      "\n",
      "\n",
      "Bad opinion emotion: \n",
      "{'Happy': 0.18, 'Angry': 0.05, 'Surprise': 0.14, 'Sad': 0.3, 'Fear': 0.34}\n"
     ]
    }
   ],
   "source": [
    "print(\"Good opinion emotion: \")\n",
    "print(te.get_emotion(good_opinion))\n",
    "\n",
    "print(\"\\n\")\n",
    "\n",
    "print(\"Bad opinion emotion: \")\n",
    "print(te.get_emotion(bad_opinion))"
   ]
  }
 ],
 "metadata": {
  "kernelspec": {
   "display_name": "Python 3",
   "language": "python",
   "name": "python3"
  },
  "language_info": {
   "codemirror_mode": {
    "name": "ipython",
    "version": 3
   },
   "file_extension": ".py",
   "mimetype": "text/x-python",
   "name": "python",
   "nbconvert_exporter": "python",
   "pygments_lexer": "ipython3",
   "version": "3.11.2"
  },
  "orig_nbformat": 4
 },
 "nbformat": 4,
 "nbformat_minor": 2
}
