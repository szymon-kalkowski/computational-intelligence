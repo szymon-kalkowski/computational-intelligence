{
 "cells": [
  {
   "cell_type": "code",
   "execution_count": 278,
   "metadata": {},
   "outputs": [
    {
     "name": "stderr",
     "output_type": "stream",
     "text": [
      "[nltk_data] Downloading package stopwords to\n",
      "[nltk_data]     C:\\Users\\oem\\AppData\\Roaming\\nltk_data...\n",
      "[nltk_data]   Package stopwords is already up-to-date!\n",
      "[nltk_data] Downloading package punkt to\n",
      "[nltk_data]     C:\\Users\\oem\\AppData\\Roaming\\nltk_data...\n",
      "[nltk_data]   Package punkt is already up-to-date!\n",
      "[nltk_data] Downloading package wordnet to\n",
      "[nltk_data]     C:\\Users\\oem\\AppData\\Roaming\\nltk_data...\n",
      "[nltk_data]   Package wordnet is already up-to-date!\n"
     ]
    },
    {
     "data": {
      "text/plain": [
       "True"
      ]
     },
     "execution_count": 278,
     "metadata": {},
     "output_type": "execute_result"
    }
   ],
   "source": [
    "import nltk\n",
    "import matplotlib.pyplot as plt\n",
    "from nltk.stem import WordNetLemmatizer\n",
    "from wordcloud import WordCloud\n",
    "from nltk.corpus import stopwords\n",
    "from PIL import Image, ImageDraw, ImageFont\n",
    "\n",
    "nltk.download('stopwords')\n",
    "nltk.download('punkt')\n",
    "nltk.download('wordnet')\n"
   ]
  },
  {
   "cell_type": "code",
   "execution_count": 279,
   "metadata": {},
   "outputs": [
    {
     "name": "stdout",
     "output_type": "stream",
     "text": [
      "360\n"
     ]
    }
   ],
   "source": [
    "#a\n",
    "f = open('article.txt', 'r')\n",
    "text = f.read()\n",
    "f.close()\n",
    "\n",
    "#b\n",
    "words = nltk.word_tokenize(text)\n",
    "print(len(words))"
   ]
  },
  {
   "cell_type": "code",
   "execution_count": 280,
   "metadata": {},
   "outputs": [
    {
     "name": "stdout",
     "output_type": "stream",
     "text": [
      "['i', 'me', 'my', 'myself', 'we', 'our', 'ours', 'ourselves', 'you', \"you're\", \"you've\", \"you'll\", \"you'd\", 'your', 'yours', 'yourself', 'yourselves', 'he', 'him', 'his', 'himself', 'she', \"she's\", 'her', 'hers', 'herself', 'it', \"it's\", 'its', 'itself', 'they', 'them', 'their', 'theirs', 'themselves', 'what', 'which', 'who', 'whom', 'this', 'that', \"that'll\", 'these', 'those', 'am', 'is', 'are', 'was', 'were', 'be', 'been', 'being', 'have', 'has', 'had', 'having', 'do', 'does', 'did', 'doing', 'a', 'an', 'the', 'and', 'but', 'if', 'or', 'because', 'as', 'until', 'while', 'of', 'at', 'by', 'for', 'with', 'about', 'against', 'between', 'into', 'through', 'during', 'before', 'after', 'above', 'below', 'to', 'from', 'up', 'down', 'in', 'out', 'on', 'off', 'over', 'under', 'again', 'further', 'then', 'once', 'here', 'there', 'when', 'where', 'why', 'how', 'all', 'any', 'both', 'each', 'few', 'more', 'most', 'other', 'some', 'such', 'no', 'nor', 'not', 'only', 'own', 'same', 'so', 'than', 'too', 'very', 's', 't', 'can', 'will', 'just', 'don', \"don't\", 'should', \"should've\", 'now', 'd', 'll', 'm', 'o', 're', 've', 'y', 'ain', 'aren', \"aren't\", 'couldn', \"couldn't\", 'didn', \"didn't\", 'doesn', \"doesn't\", 'hadn', \"hadn't\", 'hasn', \"hasn't\", 'haven', \"haven't\", 'isn', \"isn't\", 'ma', 'mightn', \"mightn't\", 'mustn', \"mustn't\", 'needn', \"needn't\", 'shan', \"shan't\", 'shouldn', \"shouldn't\", 'wasn', \"wasn't\", 'weren', \"weren't\", 'won', \"won't\", 'wouldn', \"wouldn't\"]\n",
      "232\n"
     ]
    }
   ],
   "source": [
    "#c\n",
    "stopwords_list = stopwords.words('english')\n",
    "print(stopwords_list)\n",
    "cleared_words = [ w  for w in words if w not in stopwords_list]\n",
    "print(len(cleared_words))"
   ]
  },
  {
   "cell_type": "code",
   "execution_count": 281,
   "metadata": {},
   "outputs": [
    {
     "name": "stdout",
     "output_type": "stream",
     "text": [
      "['Samsung', 'restricting', 'use', 'so-called', 'generative', 'artificial', 'intelligence', 'tools', 'ChatGPT', 'employees', 'company', 'discovered', 'services', 'misused', '.', 'The', 'South', 'Korean', 'technology', 'giant', 'confirmed', 'CNBC', 'Tuesday', 'temporarily', 'restricting', 'use', 'generative', 'AI', 'companyâ€™s', 'personal', 'computers', '.', 'Employees', 'one', 'Samsungâ€™s', 'biggest', 'divisions', 'informed', 'move', 'memo', 'end', 'April', 'cases', 'misuse', 'technology', '.', 'Bloomberg', 'reported', 'Tuesday', 'staff', 'uploaded', 'sensitive', 'code', 'ChatGPT', '.', 'ChatGPT', 'viral', 'AI', 'chatbot', 'trained', 'huge', 'amounts', 'data', 'able', 'generate', 'response', 'user', 'queries', '.', 'It', 'form', 'so-called', 'generative', 'AI', '.', 'Samsung', 'generative', 'AI', 'product', 'yet', '.', 'ChatGPT', 'developed', 'U.S.', 'firm', 'OpenAI', 'backed', 'Microsoft', 'generative', 'AI', 'products', 'include', 'Googleâ€™s', 'Bard', '.', 'Inputting', 'sensitive', 'company', 'data', 'foreign-owned', 'services', 'could', 'concern', 'companies', 'worried', 'leaks', 'crucial', 'information', '.', 'Samsung', 'told', 'employees', 'take', 'precautions', 'using', 'ChatGPT', 'products', 'outside', 'work', 'advised', 'workers', 'enter', 'personal', 'company', 'related', 'information', 'services', '.', 'In', 'Samsung', 'company-wide', 'survey', 'conducted', 'last', 'month', ',', '65', '%', 'responded', 'said', 'concern', 'security', 'risks', 'using', 'generative', 'AI', 'services', '.', 'Samsung', 'company', 'restricting', 'use', 'technology', '.', 'U.S.', 'investment', 'bank', 'JPMorgan', 'reportedly', 'restricted', 'use', 'ChatGPT', 'among', 'staff', 'earlier', 'year', '.', 'And', 'Amazon', 'year', 'reportedly', 'warned', 'employees', 'upload', 'confidential', 'information', ',', 'including', 'code', ',', 'ChatGPT', '.', 'Companies', 'assessing', 'ways', 'generative', 'AI', 'capabilities', 'could', 'used', 'within', 'business', '.', 'ChatGPT', 'help', 'engineers', 'generate', 'computer', 'code', 'example', ',', 'speed', 'tasks', '.', 'Software', 'developers', 'Goldman', 'Sachs', 'using', 'generative', 'AI', 'help', 'generate', 'code', '.', 'Despite', 'latest', 'restrictions', ',', 'Samsung', 'looking', 'ways', 'generative', 'AI', 'could', 'used', 'safely', 'enhance', 'employee', 'productivity', 'efficiency', '.']\n"
     ]
    }
   ],
   "source": [
    "#d\n",
    "print(cleared_words)\n",
    "stopwords_list.extend(['.', 'the', 'yet', 'in', ',', '%', 'and'])"
   ]
  },
  {
   "cell_type": "code",
   "execution_count": 282,
   "metadata": {},
   "outputs": [
    {
     "name": "stdout",
     "output_type": "stream",
     "text": [
      "207\n"
     ]
    }
   ],
   "source": [
    "cleared_words = [ w  for w in words if w not in stopwords_list]\n",
    "print(len(cleared_words))"
   ]
  },
  {
   "cell_type": "code",
   "execution_count": 283,
   "metadata": {},
   "outputs": [
    {
     "name": "stdout",
     "output_type": "stream",
     "text": [
      "207\n"
     ]
    }
   ],
   "source": [
    "#e\n",
    "lemmanizer = WordNetLemmatizer()\n",
    "lemmanized_words = [lemmanizer.lemmatize(w) for w in cleared_words]\n",
    "print(len(lemmanized_words))"
   ]
  },
  {
   "cell_type": "code",
   "execution_count": 284,
   "metadata": {},
   "outputs": [
    {
     "name": "stdout",
     "output_type": "stream",
     "text": [
      "[('generative', 9), ('AI', 9), ('ChatGPT', 8), ('Samsung', 6), ('company', 5), ('use', 4), ('employee', 4), ('service', 4), ('code', 4), ('restricting', 3), ('technology', 3), ('generate', 3), ('product', 3), ('could', 3), ('information', 3), ('using', 3), ('so-called', 2), ('Tuesday', 2), ('personal', 2), ('computer', 2), ('staff', 2), ('sensitive', 2), ('data', 2), ('U.S.', 2), ('concern', 2), ('reportedly', 2), ('year', 2), ('way', 2), ('used', 2), ('help', 2), ('artificial', 1), ('intelligence', 1), ('tool', 1), ('discovered', 1), ('misused', 1), ('The', 1), ('South', 1), ('Korean', 1), ('giant', 1), ('confirmed', 1), ('CNBC', 1), ('temporarily', 1), ('companyâ€™s', 1), ('Employees', 1), ('one', 1), ('Samsungâ€™s', 1), ('biggest', 1), ('division', 1), ('informed', 1), ('move', 1), ('memo', 1), ('end', 1), ('April', 1), ('case', 1), ('misuse', 1), ('Bloomberg', 1), ('reported', 1), ('uploaded', 1), ('viral', 1), ('chatbot', 1), ('trained', 1), ('huge', 1), ('amount', 1), ('able', 1), ('response', 1), ('user', 1), ('query', 1), ('It', 1), ('form', 1), ('developed', 1), ('firm', 1), ('OpenAI', 1), ('backed', 1), ('Microsoft', 1), ('include', 1), ('Googleâ€™s', 1), ('Bard', 1), ('Inputting', 1), ('foreign-owned', 1), ('worried', 1), ('leak', 1), ('crucial', 1), ('told', 1), ('take', 1), ('precaution', 1), ('outside', 1), ('work', 1), ('advised', 1), ('worker', 1), ('enter', 1), ('related', 1), ('In', 1), ('company-wide', 1), ('survey', 1), ('conducted', 1), ('last', 1), ('month', 1), ('65', 1), ('responded', 1), ('said', 1), ('security', 1), ('risk', 1), ('investment', 1), ('bank', 1), ('JPMorgan', 1), ('restricted', 1), ('among', 1), ('earlier', 1), ('And', 1), ('Amazon', 1), ('warned', 1), ('upload', 1), ('confidential', 1), ('including', 1), ('Companies', 1), ('assessing', 1), ('capability', 1), ('within', 1), ('business', 1), ('engineer', 1), ('example', 1), ('speed', 1), ('task', 1), ('Software', 1), ('developer', 1), ('Goldman', 1), ('Sachs', 1), ('Despite', 1), ('latest', 1), ('restriction', 1), ('looking', 1), ('safely', 1), ('enhance', 1), ('productivity', 1), ('efficiency', 1)]\n"
     ]
    }
   ],
   "source": [
    "#f\n",
    "dictionary = {}\n",
    "for w in lemmanized_words:\n",
    "    if w in dictionary:\n",
    "        dictionary[w] += 1\n",
    "    else:\n",
    "        dictionary[w] = 1\n",
    "\n",
    "list_of_tuples = [(k, v) for k, v in dictionary.items()]\n",
    "list_of_tuples.sort(key=lambda tup: tup[1], reverse=True)\n",
    "print(list_of_tuples)"
   ]
  },
  {
   "cell_type": "code",
   "execution_count": 285,
   "metadata": {},
   "outputs": [
    {
     "data": {
      "image/png": "[encoded data removed]",
      "text/plain": [
       "<Figure size 432x288 with 1 Axes>"
      ]
     },
     "metadata": {
      "needs_background": "light"
     },
     "output_type": "display_data"
    }
   ],
   "source": [
    "top_10 = list_of_tuples[:10]\n",
    "\n",
    "plt.bar([t[0] for t in top_10], [t[1] for t in top_10])\n",
    "plt.xticks(rotation=45)\n",
    "plt.show()"
   ]
  },
  {
   "cell_type": "code",
   "execution_count": 286,
   "metadata": {},
   "outputs": [
    {
     "ename": "AttributeError",
     "evalue": "'TransposedFont' object has no attribute 'getbbox'",
     "output_type": "error",
     "traceback": [
      "\u001b[1;31m---------------------------------------------------------------------------\u001b[0m",
      "\u001b[1;31mAttributeError\u001b[0m                            Traceback (most recent call last)",
      "\u001b[1;32mc:\\Users\\oem\\Desktop\\studia\\sem4\\inteligencja obliczeniowa\\laby\\lab08\\zad1.ipynb Cell 9\u001b[0m in \u001b[0;36m<cell line: 2>\u001b[1;34m()\u001b[0m\n\u001b[0;32m      <a href='vscode-notebook-cell:/c%3A/Users/oem/Desktop/studia/sem4/inteligencja%20obliczeniowa/laby/lab08/zad1.ipynb#X11sZmlsZQ%3D%3D?line=0'>1</a>\u001b[0m \u001b[39m# font_path = \"C:\\\\Windows\\\\Fonts\\\\ARLRDBD.TTF\"\u001b[39;00m\n\u001b[1;32m----> <a href='vscode-notebook-cell:/c%3A/Users/oem/Desktop/studia/sem4/inteligencja%20obliczeniowa/laby/lab08/zad1.ipynb#X11sZmlsZQ%3D%3D?line=1'>2</a>\u001b[0m wordcloud \u001b[39m=\u001b[39m WordCloud(collocations\u001b[39m=\u001b[39;49m\u001b[39mFalse\u001b[39;49;00m)\u001b[39m.\u001b[39;49mgenerate(\u001b[39m\"\u001b[39;49m\u001b[39mdas adad dasda\u001b[39;49m\u001b[39m\"\u001b[39;49m)\n\u001b[0;32m      <a href='vscode-notebook-cell:/c%3A/Users/oem/Desktop/studia/sem4/inteligencja%20obliczeniowa/laby/lab08/zad1.ipynb#X11sZmlsZQ%3D%3D?line=3'>4</a>\u001b[0m plt\u001b[39m.\u001b[39mimshow(wordcloud, interpolation\u001b[39m=\u001b[39m\u001b[39m'\u001b[39m\u001b[39mbilinear\u001b[39m\u001b[39m'\u001b[39m)\n\u001b[0;32m      <a href='vscode-notebook-cell:/c%3A/Users/oem/Desktop/studia/sem4/inteligencja%20obliczeniowa/laby/lab08/zad1.ipynb#X11sZmlsZQ%3D%3D?line=4'>5</a>\u001b[0m plt\u001b[39m.\u001b[39maxis(\u001b[39m\"\u001b[39m\u001b[39moff\u001b[39m\u001b[39m\"\u001b[39m)\n",
      "File \u001b[1;32mc:\\Users\\oem\\AppData\\Local\\Programs\\Python\\Python39\\lib\\site-packages\\wordcloud\\wordcloud.py:639\u001b[0m, in \u001b[0;36mWordCloud.generate\u001b[1;34m(self, text)\u001b[0m\n\u001b[0;32m    624\u001b[0m \u001b[39mdef\u001b[39;00m \u001b[39mgenerate\u001b[39m(\u001b[39mself\u001b[39m, text):\n\u001b[0;32m    625\u001b[0m     \u001b[39m\"\"\"Generate wordcloud from text.\u001b[39;00m\n\u001b[0;32m    626\u001b[0m \n\u001b[0;32m    627\u001b[0m \u001b[39m    The input \"text\" is expected to be a natural text. If you pass a sorted\u001b[39;00m\n\u001b[1;32m   (...)\u001b[0m\n\u001b[0;32m    637\u001b[0m \u001b[39m    self\u001b[39;00m\n\u001b[0;32m    638\u001b[0m \u001b[39m    \"\"\"\u001b[39;00m\n\u001b[1;32m--> 639\u001b[0m     \u001b[39mreturn\u001b[39;00m \u001b[39mself\u001b[39;49m\u001b[39m.\u001b[39;49mgenerate_from_text(text)\n",
      "File \u001b[1;32mc:\\Users\\oem\\AppData\\Local\\Programs\\Python\\Python39\\lib\\site-packages\\wordcloud\\wordcloud.py:621\u001b[0m, in \u001b[0;36mWordCloud.generate_from_text\u001b[1;34m(self, text)\u001b[0m\n\u001b[0;32m    604\u001b[0m \u001b[39m\"\"\"Generate wordcloud from text.\u001b[39;00m\n\u001b[0;32m    605\u001b[0m \n\u001b[0;32m    606\u001b[0m \u001b[39mThe input \"text\" is expected to be a natural text. If you pass a sorted\u001b[39;00m\n\u001b[1;32m   (...)\u001b[0m\n\u001b[0;32m    618\u001b[0m \u001b[39mself\u001b[39;00m\n\u001b[0;32m    619\u001b[0m \u001b[39m\"\"\"\u001b[39;00m\n\u001b[0;32m    620\u001b[0m words \u001b[39m=\u001b[39m \u001b[39mself\u001b[39m\u001b[39m.\u001b[39mprocess_text(text)\n\u001b[1;32m--> 621\u001b[0m \u001b[39mself\u001b[39;49m\u001b[39m.\u001b[39;49mgenerate_from_frequencies(words)\n\u001b[0;32m    622\u001b[0m \u001b[39mreturn\u001b[39;00m \u001b[39mself\u001b[39m\n",
      "File \u001b[1;32mc:\\Users\\oem\\AppData\\Local\\Programs\\Python\\Python39\\lib\\site-packages\\wordcloud\\wordcloud.py:453\u001b[0m, in \u001b[0;36mWordCloud.generate_from_frequencies\u001b[1;34m(self, frequencies, max_font_size)\u001b[0m\n\u001b[0;32m    451\u001b[0m     font_size \u001b[39m=\u001b[39m \u001b[39mself\u001b[39m\u001b[39m.\u001b[39mheight\n\u001b[0;32m    452\u001b[0m \u001b[39melse\u001b[39;00m:\n\u001b[1;32m--> 453\u001b[0m     \u001b[39mself\u001b[39;49m\u001b[39m.\u001b[39;49mgenerate_from_frequencies(\u001b[39mdict\u001b[39;49m(frequencies[:\u001b[39m2\u001b[39;49m]),\n\u001b[0;32m    454\u001b[0m                                    max_font_size\u001b[39m=\u001b[39;49m\u001b[39mself\u001b[39;49m\u001b[39m.\u001b[39;49mheight)\n\u001b[0;32m    455\u001b[0m     \u001b[39m# find font sizes\u001b[39;00m\n\u001b[0;32m    456\u001b[0m     sizes \u001b[39m=\u001b[39m [x[\u001b[39m1\u001b[39m] \u001b[39mfor\u001b[39;00m x \u001b[39min\u001b[39;00m \u001b[39mself\u001b[39m\u001b[39m.\u001b[39mlayout_]\n",
      "File \u001b[1;32mc:\\Users\\oem\\AppData\\Local\\Programs\\Python\\Python39\\lib\\site-packages\\wordcloud\\wordcloud.py:508\u001b[0m, in \u001b[0;36mWordCloud.generate_from_frequencies\u001b[1;34m(self, frequencies, max_font_size)\u001b[0m\n\u001b[0;32m    505\u001b[0m transposed_font \u001b[39m=\u001b[39m ImageFont\u001b[39m.\u001b[39mTransposedFont(\n\u001b[0;32m    506\u001b[0m     font, orientation\u001b[39m=\u001b[39morientation)\n\u001b[0;32m    507\u001b[0m \u001b[39m# get size of resulting text\u001b[39;00m\n\u001b[1;32m--> 508\u001b[0m box_size \u001b[39m=\u001b[39m draw\u001b[39m.\u001b[39;49mtextbbox((\u001b[39m0\u001b[39;49m, \u001b[39m0\u001b[39;49m), word, font\u001b[39m=\u001b[39;49mtransposed_font, anchor\u001b[39m=\u001b[39;49m\u001b[39m\"\u001b[39;49m\u001b[39mlt\u001b[39;49m\u001b[39m\"\u001b[39;49m)\n\u001b[0;32m    509\u001b[0m \u001b[39m# find possible places using integral image:\u001b[39;00m\n\u001b[0;32m    510\u001b[0m result \u001b[39m=\u001b[39m occupancy\u001b[39m.\u001b[39msample_position(box_size[\u001b[39m3\u001b[39m] \u001b[39m+\u001b[39m \u001b[39mself\u001b[39m\u001b[39m.\u001b[39mmargin,\n\u001b[0;32m    511\u001b[0m                                    box_size[\u001b[39m2\u001b[39m] \u001b[39m+\u001b[39m \u001b[39mself\u001b[39m\u001b[39m.\u001b[39mmargin,\n\u001b[0;32m    512\u001b[0m                                    random_state)\n",
      "File \u001b[1;32mc:\\Users\\oem\\AppData\\Local\\Programs\\Python\\Python39\\lib\\site-packages\\PIL\\ImageDraw.py:657\u001b[0m, in \u001b[0;36mImageDraw.textbbox\u001b[1;34m(self, xy, text, font, anchor, spacing, align, direction, features, language, stroke_width, embedded_color)\u001b[0m\n\u001b[0;32m    655\u001b[0m     font \u001b[39m=\u001b[39m \u001b[39mself\u001b[39m\u001b[39m.\u001b[39mgetfont()\n\u001b[0;32m    656\u001b[0m mode \u001b[39m=\u001b[39m \u001b[39m\"\u001b[39m\u001b[39mRGBA\u001b[39m\u001b[39m\"\u001b[39m \u001b[39mif\u001b[39;00m embedded_color \u001b[39melse\u001b[39;00m \u001b[39mself\u001b[39m\u001b[39m.\u001b[39mfontmode\n\u001b[1;32m--> 657\u001b[0m bbox \u001b[39m=\u001b[39m font\u001b[39m.\u001b[39;49mgetbbox(\n\u001b[0;32m    658\u001b[0m     text, mode, direction, features, language, stroke_width, anchor\n\u001b[0;32m    659\u001b[0m )\n\u001b[0;32m    660\u001b[0m \u001b[39mreturn\u001b[39;00m bbox[\u001b[39m0\u001b[39m] \u001b[39m+\u001b[39m xy[\u001b[39m0\u001b[39m], bbox[\u001b[39m1\u001b[39m] \u001b[39m+\u001b[39m xy[\u001b[39m1\u001b[39m], bbox[\u001b[39m2\u001b[39m] \u001b[39m+\u001b[39m xy[\u001b[39m0\u001b[39m], bbox[\u001b[39m3\u001b[39m] \u001b[39m+\u001b[39m xy[\u001b[39m1\u001b[39m]\n",
      "\u001b[1;31mAttributeError\u001b[0m: 'TransposedFont' object has no attribute 'getbbox'"
     ]
    }
   ],
   "source": [
    "#g\n",
    "wordcloud = WordCloud().generate(\" \".join(lemmanized_words))\n",
    "\n",
    "plt.imshow(wordcloud, interpolation='bilinear')\n",
    "plt.axis(\"off\")\n",
    "plt.show()"
   ]
  }
 ],
 "metadata": {
  "kernelspec": {
   "display_name": "Python 3",
   "language": "python",
   "name": "python3"
  },
  "language_info": {
   "codemirror_mode": {
    "name": "ipython",
    "version": 3
   },
   "file_extension": ".py",
   "mimetype": "text/x-python",
   "name": "python",
   "nbconvert_exporter": "python",
   "pygments_lexer": "ipython3",
   "version": "3.9.2"
  },
  "orig_nbformat": 4
 },
 "nbformat": 4,
 "nbformat_minor": 2
}
