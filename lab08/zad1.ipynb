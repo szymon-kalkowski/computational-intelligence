{
 "cells": [
  {
   "cell_type": "code",
   "execution_count": 102,
   "metadata": {},
   "outputs": [
    {
     "name": "stderr",
     "output_type": "stream",
     "text": [
      "[nltk_data] Downloading package stopwords to\n",
      "[nltk_data]     C:\\Users\\szymo\\AppData\\Roaming\\nltk_data...\n",
      "[nltk_data]   Package stopwords is already up-to-date!\n",
      "[nltk_data] Downloading package punkt to\n",
      "[nltk_data]     C:\\Users\\szymo\\AppData\\Roaming\\nltk_data...\n",
      "[nltk_data]   Package punkt is already up-to-date!\n",
      "[nltk_data] Downloading package wordnet to\n",
      "[nltk_data]     C:\\Users\\szymo\\AppData\\Roaming\\nltk_data...\n",
      "[nltk_data]   Package wordnet is already up-to-date!\n"
     ]
    },
    {
     "data": {
      "text/plain": [
       "True"
      ]
     },
     "execution_count": 102,
     "metadata": {},
     "output_type": "execute_result"
    }
   ],
   "source": [
    "import nltk\n",
    "import matplotlib.pyplot as plt\n",
    "from nltk.stem import WordNetLemmatizer\n",
    "\n",
    "\n",
    "nltk.download('stopwords')\n",
    "nltk.download('punkt')\n",
    "nltk.download('wordnet')\n"
   ]
  },
  {
   "cell_type": "code",
   "execution_count": 103,
   "metadata": {},
   "outputs": [
    {
     "name": "stdout",
     "output_type": "stream",
     "text": [
      "360\n"
     ]
    }
   ],
   "source": [
    "#a\n",
    "f = open('article.txt', 'r')\n",
    "text = f.read()\n",
    "f.close()\n",
    "\n",
    "#b\n",
    "words = nltk.word_tokenize(text)\n",
    "print(len(words))"
   ]
  },
  {
   "cell_type": "code",
   "execution_count": 104,
   "metadata": {},
   "outputs": [
    {
     "name": "stdout",
     "output_type": "stream",
     "text": [
      "['i', 'me', 'my', 'myself', 'we', 'our', 'ours', 'ourselves', 'you', \"you're\", \"you've\", \"you'll\", \"you'd\", 'your', 'yours', 'yourself', 'yourselves', 'he', 'him', 'his', 'himself', 'she', \"she's\", 'her', 'hers', 'herself', 'it', \"it's\", 'its', 'itself', 'they', 'them', 'their', 'theirs', 'themselves', 'what', 'which', 'who', 'whom', 'this', 'that', \"that'll\", 'these', 'those', 'am', 'is', 'are', 'was', 'were', 'be', 'been', 'being', 'have', 'has', 'had', 'having', 'do', 'does', 'did', 'doing', 'a', 'an', 'the', 'and', 'but', 'if', 'or', 'because', 'as', 'until', 'while', 'of', 'at', 'by', 'for', 'with', 'about', 'against', 'between', 'into', 'through', 'during', 'before', 'after', 'above', 'below', 'to', 'from', 'up', 'down', 'in', 'out', 'on', 'off', 'over', 'under', 'again', 'further', 'then', 'once', 'here', 'there', 'when', 'where', 'why', 'how', 'all', 'any', 'both', 'each', 'few', 'more', 'most', 'other', 'some', 'such', 'no', 'nor', 'not', 'only', 'own', 'same', 'so', 'than', 'too', 'very', 's', 't', 'can', 'will', 'just', 'don', \"don't\", 'should', \"should've\", 'now', 'd', 'll', 'm', 'o', 're', 've', 'y', 'ain', 'aren', \"aren't\", 'couldn', \"couldn't\", 'didn', \"didn't\", 'doesn', \"doesn't\", 'hadn', \"hadn't\", 'hasn', \"hasn't\", 'haven', \"haven't\", 'isn', \"isn't\", 'ma', 'mightn', \"mightn't\", 'mustn', \"mustn't\", 'needn', \"needn't\", 'shan', \"shan't\", 'shouldn', \"shouldn't\", 'wasn', \"wasn't\", 'weren', \"weren't\", 'won', \"won't\", 'wouldn', \"wouldn't\", '.', 'the', 'yet', 'in', ',', '%', 'and', '.', 'the', 'yet', 'in', ',', '%', 'and', '.', 'the', 'yet', 'in', ',', '%', 'and', '.', 'the', 'yet', 'in', ',', '%', 'and', '.', 'the', 'yet', 'in', ',', '%', 'and', '.', 'the', 'yet', 'in', ',', '%', 'and', '.', 'the', 'yet', 'in', ',', '%', 'and', '.', 'the', 'yet', 'in', ',', '%', 'and', '.', 'the', 'yet', 'in', ',', '%', 'and', '.', 'the', 'yet', 'in', ',', '%', 'and']\n",
      "207\n"
     ]
    }
   ],
   "source": [
    "#c\n",
    "stopwords_list = stopwords\n",
    "print(stopwords_list)\n",
    "cleared_words = [ w  for w in words if w not in stopwords_list]\n",
    "print(len(cleared_words))"
   ]
  },
  {
   "cell_type": "code",
   "execution_count": 105,
   "metadata": {},
   "outputs": [
    {
     "name": "stdout",
     "output_type": "stream",
     "text": [
      "['Samsung', 'restricting', 'use', 'so-called', 'generative', 'artificial', 'intelligence', 'tools', 'ChatGPT', 'employees', 'company', 'discovered', 'services', 'misused', 'The', 'South', 'Korean', 'technology', 'giant', 'confirmed', 'CNBC', 'Tuesday', 'temporarily', 'restricting', 'use', 'generative', 'AI', 'companyâ€™s', 'personal', 'computers', 'Employees', 'one', 'Samsungâ€™s', 'biggest', 'divisions', 'informed', 'move', 'memo', 'end', 'April', 'cases', 'misuse', 'technology', 'Bloomberg', 'reported', 'Tuesday', 'staff', 'uploaded', 'sensitive', 'code', 'ChatGPT', 'ChatGPT', 'viral', 'AI', 'chatbot', 'trained', 'huge', 'amounts', 'data', 'able', 'generate', 'response', 'user', 'queries', 'It', 'form', 'so-called', 'generative', 'AI', 'Samsung', 'generative', 'AI', 'product', 'ChatGPT', 'developed', 'U.S.', 'firm', 'OpenAI', 'backed', 'Microsoft', 'generative', 'AI', 'products', 'include', 'Googleâ€™s', 'Bard', 'Inputting', 'sensitive', 'company', 'data', 'foreign-owned', 'services', 'could', 'concern', 'companies', 'worried', 'leaks', 'crucial', 'information', 'Samsung', 'told', 'employees', 'take', 'precautions', 'using', 'ChatGPT', 'products', 'outside', 'work', 'advised', 'workers', 'enter', 'personal', 'company', 'related', 'information', 'services', 'In', 'Samsung', 'company-wide', 'survey', 'conducted', 'last', 'month', '65', 'responded', 'said', 'concern', 'security', 'risks', 'using', 'generative', 'AI', 'services', 'Samsung', 'company', 'restricting', 'use', 'technology', 'U.S.', 'investment', 'bank', 'JPMorgan', 'reportedly', 'restricted', 'use', 'ChatGPT', 'among', 'staff', 'earlier', 'year', 'And', 'Amazon', 'year', 'reportedly', 'warned', 'employees', 'upload', 'confidential', 'information', 'including', 'code', 'ChatGPT', 'Companies', 'assessing', 'ways', 'generative', 'AI', 'capabilities', 'could', 'used', 'within', 'business', 'ChatGPT', 'help', 'engineers', 'generate', 'computer', 'code', 'example', 'speed', 'tasks', 'Software', 'developers', 'Goldman', 'Sachs', 'using', 'generative', 'AI', 'help', 'generate', 'code', 'Despite', 'latest', 'restrictions', 'Samsung', 'looking', 'ways', 'generative', 'AI', 'could', 'used', 'safely', 'enhance', 'employee', 'productivity', 'efficiency']\n"
     ]
    }
   ],
   "source": [
    "#d\n",
    "print(cleared_words)\n",
    "stopwords_list.extend(['.', 'the', 'yet', 'in', ',', '%', 'and'])"
   ]
  },
  {
   "cell_type": "code",
   "execution_count": 106,
   "metadata": {},
   "outputs": [
    {
     "name": "stdout",
     "output_type": "stream",
     "text": [
      "207\n"
     ]
    }
   ],
   "source": [
    "cleared_words = [ w  for w in words if w not in stopwords_list]\n",
    "print(len(cleared_words))"
   ]
  },
  {
   "cell_type": "code",
   "execution_count": 107,
   "metadata": {},
   "outputs": [
    {
     "name": "stdout",
     "output_type": "stream",
     "text": [
      "207\n"
     ]
    }
   ],
   "source": [
    "#e\n",
    "lemmanizer = WordNetLemmatizer()\n",
    "lemmanized_words = [lemmanizer.lemmatize(w) for w in cleared_words]\n",
    "print(len(lemmanized_words))"
   ]
  },
  {
   "cell_type": "code",
   "execution_count": 108,
   "metadata": {},
   "outputs": [
    {
     "name": "stdout",
     "output_type": "stream",
     "text": [
      "[('gener', 12), ('use', 9), ('ai', 9), ('chatgpt', 8), ('samsung', 6), ('compani', 6), ('restrict', 5), ('employe', 5), ('servic', 4), ('inform', 4), ('code', 4), ('product', 4), ('technolog', 3), ('could', 3), ('so-cal', 2), ('misus', 2), ('tuesday', 2), ('person', 2), ('comput', 2), ('staff', 2), ('upload', 2), ('sensit', 2), ('data', 2), ('develop', 2), ('u.s.', 2), ('includ', 2), ('concern', 2), ('reportedli', 2), ('year', 2), ('way', 2), ('help', 2), ('artifici', 1), ('intellig', 1), ('tool', 1), ('discov', 1), ('the', 1), ('south', 1), ('korean', 1), ('giant', 1), ('confirm', 1), ('cnbc', 1), ('temporarili', 1), ('companyâ€™', 1), ('one', 1), ('samsungâ€™', 1), ('biggest', 1), ('divis', 1), ('move', 1), ('memo', 1), ('end', 1), ('april', 1), ('case', 1), ('bloomberg', 1), ('report', 1), ('viral', 1), ('chatbot', 1), ('train', 1), ('huge', 1), ('amount', 1), ('abl', 1), ('respons', 1), ('user', 1), ('queri', 1), ('it', 1), ('form', 1), ('firm', 1), ('openai', 1), ('back', 1), ('microsoft', 1), ('googleâ€™', 1), ('bard', 1), ('input', 1), ('foreign-own', 1), ('worri', 1), ('leak', 1), ('crucial', 1), ('told', 1), ('take', 1), ('precaut', 1), ('outsid', 1), ('work', 1), ('advis', 1), ('worker', 1), ('enter', 1), ('relat', 1), ('in', 1), ('company-wid', 1), ('survey', 1), ('conduct', 1), ('last', 1), ('month', 1), ('65', 1), ('respond', 1), ('said', 1), ('secur', 1), ('risk', 1), ('invest', 1), ('bank', 1), ('jpmorgan', 1), ('among', 1), ('earlier', 1), ('and', 1), ('amazon', 1), ('warn', 1), ('confidenti', 1), ('assess', 1), ('capabl', 1), ('within', 1), ('busi', 1), ('engin', 1), ('exampl', 1), ('speed', 1), ('task', 1), ('softwar', 1), ('goldman', 1), ('sach', 1), ('despit', 1), ('latest', 1), ('look', 1), ('safe', 1), ('enhanc', 1), ('effici', 1)]\n"
     ]
    }
   ],
   "source": [
    "#f\n",
    "dictionary = {}\n",
    "for w in stemmed_words:\n",
    "    if w in dictionary:\n",
    "        dictionary[w] += 1\n",
    "    else:\n",
    "        dictionary[w] = 1\n",
    "\n",
    "list_of_tuples = [(k, v) for k, v in dictionary.items()]\n",
    "list_of_tuples.sort(key=lambda tup: tup[1], reverse=True)\n",
    "print(list_of_tuples)"
   ]
  },
  {
   "cell_type": "code",
   "execution_count": 109,
   "metadata": {},
   "outputs": [
    {
     "data": {
      "image/png": "[encoded data removed]",
      "text/plain": [
       "<Figure size 640x480 with 1 Axes>"
      ]
     },
     "metadata": {},
     "output_type": "display_data"
    }
   ],
   "source": [
    "top_10 = list_of_tuples[:10]\n",
    "\n",
    "plt.bar([t[0] for t in top_10], [t[1] for t in top_10])\n",
    "plt.xticks(rotation=45)\n",
    "plt.show()"
   ]
  },
  {
   "cell_type": "code",
   "execution_count": null,
   "metadata": {},
   "outputs": [],
   "source": []
  }
 ],
 "metadata": {
  "kernelspec": {
   "display_name": "Python 3",
   "language": "python",
   "name": "python3"
  },
  "language_info": {
   "codemirror_mode": {
    "name": "ipython",
    "version": 3
   },
   "file_extension": ".py",
   "mimetype": "text/x-python",
   "name": "python",
   "nbconvert_exporter": "python",
   "pygments_lexer": "ipython3",
   "version": "3.11.2"
  },
  "orig_nbformat": 4
 },
 "nbformat": 4,
 "nbformat_minor": 2
}
