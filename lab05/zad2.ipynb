{
 "cells": [
  {
   "cell_type": "code",
   "execution_count": 112,
   "metadata": {},
   "outputs": [],
   "source": [
    "import pandas as pd \n",
    "from sklearn.model_selection import train_test_split \n",
    " \n",
    "df = pd.read_csv(\"iris.csv\") \n",
    " \n",
    "(train_set, test_set) = train_test_split(df.values, train_size=0.7, \n",
    "random_state=278823)"
   ]
  },
  {
   "cell_type": "code",
   "execution_count": 113,
   "metadata": {},
   "outputs": [],
   "source": [
    "def classify_iris(sl, sw, pl, pw): \n",
    "    if pw <= 0.7: \n",
    "        return(\"setosa\") \n",
    "    elif pl >= 4.9 and sw >= 2.5 and sl >= 6: \n",
    "        return(\"virginica\") \n",
    "    else: \n",
    "        return(\"versicolor\")"
   ]
  },
  {
   "cell_type": "code",
   "execution_count": 114,
   "metadata": {},
   "outputs": [
    {
     "name": "stdout",
     "output_type": "stream",
     "text": [
      "41\n",
      "91.11111111111111 %\n"
     ]
    }
   ],
   "source": [
    "good_predictions = 0 \n",
    "len = test_set.shape[0] \n",
    " \n",
    "for i in range(len): \n",
    "    if classify_iris(test_set[i][0], test_set[i][1], test_set[i][2], test_set[i][3]) == test_set[i][4]: \n",
    "        good_predictions = good_predictions + 1 \n",
    " \n",
    "print(good_predictions) \n",
    "print(good_predictions/len*100, \"%\")"
   ]
  },
  {
   "cell_type": "code",
   "execution_count": 115,
   "metadata": {},
   "outputs": [
    {
     "name": "stdout",
     "output_type": "stream",
     "text": [
      "   sepal_length sepal_width petal_length petal_width    species\n",
      "0           4.8         3.1          1.6         0.2     setosa\n",
      "32          5.0         3.4          1.5         0.2     setosa\n",
      "35          5.5         3.5          1.3         0.2     setosa\n",
      "38          5.3         3.7          1.5         0.2     setosa\n",
      "40          5.1         3.4          1.5         0.2     setosa\n",
      "..          ...         ...          ...         ...        ...\n",
      "73          6.9         3.1          5.4         2.1  virginica\n",
      "5           6.7         3.3          5.7         2.1  virginica\n",
      "76          7.2         3.2          6.0         1.8  virginica\n",
      "13          4.9         2.5          4.5         1.7  virginica\n",
      "52          7.7         2.6          6.9         2.3  virginica\n",
      "\n",
      "[105 rows x 5 columns]\n"
     ]
    }
   ],
   "source": [
    "train_set_df = pd.DataFrame(train_set, columns=['sepal_length', 'sepal_width', 'petal_length', 'petal_width', 'species'])\n",
    "print(train_set_df.sort_values(by=['species']))"
   ]
  }
 ],
 "metadata": {
  "kernelspec": {
   "display_name": "Python 3",
   "language": "python",
   "name": "python3"
  },
  "language_info": {
   "codemirror_mode": {
    "name": "ipython",
    "version": 3
   },
   "file_extension": ".py",
   "mimetype": "text/x-python",
   "name": "python",
   "nbconvert_exporter": "python",
   "pygments_lexer": "ipython3",
   "version": "3.11.2"
  },
  "orig_nbformat": 4
 },
 "nbformat": 4,
 "nbformat_minor": 2
}
