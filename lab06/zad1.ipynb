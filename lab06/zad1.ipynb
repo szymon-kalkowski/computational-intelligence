{
 "cells": [
  {
   "cell_type": "code",
   "execution_count": 11,
   "metadata": {},
   "outputs": [],
   "source": [
    "import math"
   ]
  },
  {
   "cell_type": "code",
   "execution_count": 12,
   "metadata": {},
   "outputs": [
    {
     "name": "stdout",
     "output_type": "stream",
     "text": [
      "0.7985341880063129\n",
      "0.8009499165011525\n",
      "-0.0145099999999998\n"
     ]
    }
   ],
   "source": [
    "def f_act(x):\n",
    "    return 1/(1+math.e**(-x))\n",
    "\n",
    "def forwardPass(wiek, waga, wzrost): \n",
    "    hidden1 = -0.46122 * wiek + 0.97314 * waga - 0.39203 * wzrost + 0.80109\n",
    "    hidden1_po_aktywacji = f_act(hidden1)\n",
    "    hidden2 = 0.78548 * wiek + 2.10584 * waga - 0.57847 * wzrost + 0.43529\n",
    "    hidden2_po_aktywacji = f_act(hidden2)\n",
    "    output =  -0.81546 * hidden1_po_aktywacji + 1.03775 * hidden2_po_aktywacji -0.2368\n",
    "    return output \n",
    "\n",
    "print(forwardPass(23,75,176))\n",
    "print(forwardPass(25, 67, 180))\n",
    "print(forwardPass(28, 120, 175))"
   ]
  }
 ],
 "metadata": {
  "kernelspec": {
   "display_name": "Python 3",
   "language": "python",
   "name": "python3"
  },
  "language_info": {
   "codemirror_mode": {
    "name": "ipython",
    "version": 3
   },
   "file_extension": ".py",
   "mimetype": "text/x-python",
   "name": "python",
   "nbconvert_exporter": "python",
   "pygments_lexer": "ipython3",
   "version": "3.11.2"
  },
  "orig_nbformat": 4
 },
 "nbformat": 4,
 "nbformat_minor": 2
}
